{
 "cells": [
  {
   "cell_type": "code",
   "execution_count": 2,
   "metadata": {
    "collapsed": true
   },
   "outputs": [],
   "source": [
    "from wand.image import Image\n",
    "from PIL import Image as PI\n",
    "import pyocr\n",
    "import pyocr.builders\n",
    "import io"
   ]
  },
  {
   "cell_type": "code",
   "execution_count": 6,
   "metadata": {
    "collapsed": true
   },
   "outputs": [],
   "source": [
    "tool = pyocr.get_available_tools()[0]\n",
    "lang = tool.get_available_languages()[0]"
   ]
  },
  {
   "cell_type": "code",
   "execution_count": 5,
   "metadata": {
    "collapsed": false
   },
   "outputs": [
    {
     "name": "stdout",
     "output_type": "stream",
     "text": [
      "[u'eng', u'equ', u'osd']\n"
     ]
    }
   ],
   "source": [
    "print tool.get_available_languages()\n"
   ]
  },
  {
   "cell_type": "code",
   "execution_count": 7,
   "metadata": {
    "collapsed": true
   },
   "outputs": [],
   "source": [
    "req_image = []\n",
    "final_text = []\n",
    "image_pdf = Image(filename=\"/home/patechoc/Documents/CODE-DEV/AIA/Project_PIECE-SHOP/SHOPS/JUELS33/pakkseddel/2016-08-30_15-34.pdf\", resolution=300)\n",
    "image_jpeg = image_pdf.convert('jpeg')"
   ]
  },
  {
   "cell_type": "code",
   "execution_count": 8,
   "metadata": {
    "collapsed": true
   },
   "outputs": [],
   "source": [
    "for img in image_jpeg.sequence:\n",
    "    img_page = Image(image=img)\n",
    "    req_image.append(img_page.make_blob('jpeg'))"
   ]
  },
  {
   "cell_type": "code",
   "execution_count": 9,
   "metadata": {
    "collapsed": false
   },
   "outputs": [
    {
     "name": "stderr",
     "output_type": "stream",
     "text": [
      "/home/patechoc/anaconda2/lib/python2.7/site-packages/PIL/Image.py:2224: DecompressionBombWarning: Image size (200272800 pixels) exceeds limit of 89478485 pixels, could be decompression bomb DOS attack.\n",
      "  DecompressionBombWarning)\n",
      "/home/patechoc/anaconda2/lib/python2.7/site-packages/PIL/Image.py:2224: DecompressionBombWarning: Image size (176391504 pixels) exceeds limit of 89478485 pixels, could be decompression bomb DOS attack.\n",
      "  DecompressionBombWarning)\n",
      "/home/patechoc/anaconda2/lib/python2.7/site-packages/PIL/Image.py:2224: DecompressionBombWarning: Image size (190468404 pixels) exceeds limit of 89478485 pixels, could be decompression bomb DOS attack.\n",
      "  DecompressionBombWarning)\n"
     ]
    }
   ],
   "source": [
    "for img in req_image: \n",
    "    txt = tool.image_to_string(\n",
    "        PI.open(io.BytesIO(img)),\n",
    "        lang=lang,\n",
    "        builder=pyocr.builders.TextBuilder()\n",
    "    )\n",
    "    final_text.append(txt)"
   ]
  },
  {
   "cell_type": "code",
   "execution_count": 12,
   "metadata": {
    "collapsed": false
   },
   "outputs": [
    {
     "name": "stdout",
     "output_type": "stream",
     "text": [
      "3\n",
      "Send til:\n",
      "\n",
      " \n",
      "\n",
      ". F algeseddel\n",
      "Jlfels 33 Kaloma' AS Salgsordre  ........ .: 16033671\n",
      "N'els Jou'gsgate 33 Oppdragsnummer ..... ...: 1066921\n",
      "0257 L Kundenummer . ..... . .  .: 33147\n",
      "Forsendelsesdato . . . . . . . : 24.03.2016\n",
      "Side . . . . . . . . . . . . . . . . . . . . .: 2 av 3\n",
      ". Rekvisis'on . ........ . . . . .:\n",
      "Faktureres t\": Deres rle. . . . . . . . . . Edip Buga\n",
      "was 33 16.0.6.6 326112. '::::::::::::: ::::5 Per 9W mew\"\n",
      "Niels Jules gate 33 + w ‘ . - w , -\n",
      "0257 cam liiis'i’f’TFt’T‘f‘..:::::::::Em\"\n",
      "Pall ........  ........ .:1,00\n",
      "Display ...... .. . . . . . . . . ..:\n",
      ".LEL\" m __.___E__EQ Beskrivelse Enhet Levert e Pall\n",
      "9 192114 2599991 Mutti tomatﬁlet 400 g DPak 2X 6\n",
      "Batch : T251 Dato : 31.03.2017 DPak 2x 6 632225\n",
      "10 160063 1257047 83W banner chili 439 g Dpak 1x12\n",
      "Batch : 1366F206416 Date : 04.03.2019 Dpak ‘ 1x12 632225\n",
      "11 160032 151894 83W limabenner (butter beans) 425 g Dpak 1x12\n",
      "Batch : 191F 15315 Data : 01.06.2013 Dpak 11112 632225\n",
      "12 160040 151902 83W banner barbecue 439 g Dpak 1x12\n",
      "Batch : 1376F 16314 Dato : 16.06.2017 Dpak 1x12 632225\n",
      "13 191273 1234355 83W kikerter(garbanzob0nner) 439 g Dpak 2x12\n",
      "Batch : 1310F02216 Date : 21.01.2019 Dpak 2x12 632225\n",
      "14 192104 316629 83W tomaterteming m/hvitlek 411 g Dpak 1x12\n",
      "Batch : 424524 Date : 20.05.2017 Dpak 1x12 632225\n",
      "15  192033 2254357 83W tomater teming m/chili 3 krydder 411 g DPak 1x12\n",
      " Batch : 425024 Date : 25.05.2017 DPak 1x12 632225\n",
      "16 192099 444562 83W tomater skivet italiensk 411 g Dpak 1x12\n",
      "Batch : 424324 Date : 230552017 Dpak 1x12 632225\n",
      "17 160069 712307 83W banner sorte 439 g ' Dpak 2x12\n",
      "Batch : 1320F35615 Date : 21.12.2018 Dpak 2x12 632225\n",
      "18 190240 283134 Diamante artiskokkhjerter 390 g Dpak 2x24\n",
      "Batch : GFSZ76AC2 Dato : 31.12.2013 Dpak 2x24 632225\n",
      "1 192130 500933 Mutti tomater knuste (polpa) 400 g Dpak 10x12\n",
      "Batch : 8234 Date : 31.03.2013 Dpak 101112 632225\n",
      "2 192117 2911311 Mutti tomater knuste mlbasilikum 400 g DPak 6x 6\n",
      "Batch : 8272 Date : 31.03.2013 DPak 6x6 632225\n",
      "3 192133 4113972 Mutti tomater hakkede (polpapezzi) 9K0 400 g DPak 6x 6\n",
      "Batch : T237 Dato : 31.03.2017 DPak 6x 6 632225\n",
      "4 192107 4266370 Mutti tomater hele 400 g DPak 6x12\n",
      "Batch : 3226 Date : 31.08.2013 DPak 6x12 632225\n",
      "5 192132 4417530 Mutti sherrytomater 400 g DPak 6x12\n",
      "Batch : 8213 Date : 31.03.2013 DPak 6x12 632225\n",
      "20 191111 263370 Diamante paprika red 390 g Dpak 1x1 3\n",
      "Batch : GFP320P|2 Date 31.12.2013 Dpak 1x12 632225\n",
      "22 400423 224360 Fallotcomichons 340 g  Dpak 2x12\n",
      "Date : 20.11.2017 E Dpak 2x12 632225\n",
      "Supper { 6\n",
      "19 231002 125526 Jensen's hummersu e 400 m  Dpak 1\"  \n",
      "Date : 30.11.2019 pp 2 Dpak 1x 6 632225\n",
      "Sennep og ketchup D k 1 12\n",
      "21 192172 120816 Mutti to tk 340 W  Pa X\n",
      "Batch : $187133 : 01 .%7.201 Dpak 1x12 632225\n",
      "Eddik ti\n",
      "23 410356 119602 Martin Pcuret hvitvinseddik 25°Zm| Dpak 2\" 6\n",
      "\n",
      "i\n",
      "\n",
      "internett: www.clume\n",
      "\n",
      "E~poat: firmapcstﬁeiume\n",
      "\n",
      "Fereiakeregisteret; NO 942 535 937 MVA\n"
     ]
    }
   ],
   "source": [
    "print len(final_text)\n",
    "print final_text[0]"
   ]
  },
  {
   "cell_type": "code",
   "execution_count": 14,
   "metadata": {
    "collapsed": false
   },
   "outputs": [
    {
     "name": "stdout",
     "output_type": "stream",
     "text": [
      "[zen @ \" TDVBiBI’I 22 1....\n",
      "\n",
      "0\"” We” 4. 1541 Vestby\n",
      "\n",
      "P03100119 ‘74\n",
      "_2314 25 00 11131313223 14 2510\n",
      "\n",
      "gﬁiﬁmmmm 01012343030\n",
      "\n",
      "lnternett: wwwclumc\n",
      "I5'1313'31: firmapcstﬁclumc\n",
      "Fcretaksregisteret: 010942 535 937 WA\n",
      "\n",
      " \n",
      "\n",
      "   \n",
      "\n",
      "Send til: ,\n",
      "FOIgeseddel\n",
      "Juels 33 Koioniai AS Salgsordre ............ . 10033571\n",
      "Niels JU'GS 9319 33 Oppdragsnummer . .... . .: 1066921\n",
      "0257 OSLO Kundenummer  . .: 33147\n",
      "Forsendelsesdato ...... .: 24.08.2016\n",
      "Side ......  ....  ..... ..:2 av 3\n",
      "Rekvisisjon ._ ........... .\n",
      "Faktureres t\": Deres ref. ....  .... ..  . . .: Edip Buga\n",
      "Vér ref. ......... . . ...... .: Per Divind Gierud\n",
      "Juels 33 K0lonia' AS Bestiller . . . . . .  ...... .:\n",
      "Niels Jules gate 33 Transporttamavn . ...... .: Egen bil\n",
      "0257 OSLO Kolli .... ................. ..\n",
      "Pall ............. .......:1,00\n",
      "Display .... .:\n",
      "L_nr ML ____.___'_EE_|2 Beskrivelse Enhet Levert E§|_|______\n",
      "9 192114 2599991 Mutti tomatﬁlet 400 g DPak 2x 6 _\n",
      "Batch : T251 Dato : 31.08.2017 DPak 2x 6 632225\n",
      "10 160068 1257047 53w bcnnerchii 439 g Dpak 1x12 8\n",
      "Batch : 1366F206416 Dato : 04.03.2019 Dpak ' 13112 632225\n",
      "11 160032 151894 88W Iimabcnner (butter beans) 425 g Dpak 1X12 I 3\n",
      "Batch : 191 F15315 Dato : 01.00.2013 Dpak 1x12 632225\n",
      "12 100040 151902 saw banner barbecue 439 g Dpak 1x12\n",
      "Batch : 1376F16814 Dato : 16.06.2017 Dpa 1x12 632225\n",
      "13 191273 1234355 saw kikerter(garbanzcb0nner) 439 g Dpak 2412\n",
      "Batch : 1310F02216 Date : 21.01.2019 Dpak 2x12 632225\n",
      "14 192104 316629 831W tomater teming m/hvitlc‘k 411 g Dpak 1x12\n",
      "Batch : 424524 Date : 20.05.2017 Dpak 1x12 632225\n",
      "15 192083 2254357 881W tomater terning m/chili 81 krydder 411 g DPak 1x12\n",
      "v Batch : 425024 Date : 25.05.2017 DPak 1x12 632225\n",
      "16 192099 444562 88W tomater skivet italiensk 411 g Dpak 1x12\n",
      "Batch : 424824 Date : 23.05.2017 Dpak 1x12 632225\n",
      "17 160069 712307 83W bcnner sorte 439 g Dpak 2x12\n",
      "Batch : 1320F35615 Dato : 21.12.2018 Dpak 2x12 632225\n",
      "18 190240 288134 Diamante artiskokkhjerter 390 g Dpak 2x24\n",
      "Batch : GFS276AC2 Dato : 31.12.2018 Dpak 2x24 632225\n",
      "1 192130 500983 Mutti tomater knuste (polpa) 400 g Dpak 10x12\n",
      "Batch : 8234 Date : 31.08.2018 Dpak 10x12 632225\n",
      "2 192117 2911311 Mutti tomater knuste m/basilikum 400 g DPak 6x 6\n",
      "Batch : 8272 Date : 31.08.2018 DPak 6x 6 632225\n",
      "3 192138 4118972 Mutti tcmater hakkede (polpapezzi) 0K0 400 g DPak 6x 6\n",
      "Batch : T237 Date : 31 .082017 DPak 6x 6 632225\n",
      "4 192107 4266870 Mutti tomater hele 400 g  DPak 6x12\n",
      "Batch : 8226 Data : 31 08.20118 DPak 6x12 632225\n",
      "5 192132 4417530 Mutti sherrytcmater 400 g . DPak 6x12\n",
      "Batch : S213 Date I 31.03.2013 DPak 6x12 632225\n",
      "20 191111 268370 Diamante paprika red 390 g  Dpak 1x12\n",
      "Batch : GFP320PI2 Datc : 31 .122018 Dpak 1x12 632225\n",
      "22 400423 224360 Fallot cornichons 340 g Dpak 2x12\n",
      "Dato : 20.11.2017 Dpak 2x12 632225\n",
      "Supper\n",
      "19 231002 125526 Jensen's hummersuppe 400 ml Dpak 1x 6\n",
      "Date : 30.11.2019 Dpak 1X 5 532225\n",
      "Senan cg ketchup\n",
      "21 192172 120310 Mutti tomatketchUp 340 g Dpak 1x12\n",
      "Batch : 8187 Date : 01.07.2013 Dpak 1x12 632225\n",
      "Eddik\n",
      "23 410356 119602 Martin Pcuret hvitvinseddik 250 ml Dpak 2\" 3\n"
     ]
    }
   ],
   "source": [
    "print final_text[1]"
   ]
  },
  {
   "cell_type": "code",
   "execution_count": 15,
   "metadata": {
    "collapsed": false,
    "scrolled": true
   },
   "outputs": [
    {
     "name": "stdout",
     "output_type": "stream",
     "text": [
      "Oluf L0 ' ‘Eﬁmlﬁn 22 Intarnau: www.0luf.no\n",
      "mstbolrzgﬁn  with}! E-poat: firmapostﬂolumo\n",
      "' 1 Foretakaraglatarat: NO 942 535 937 MVA\n",
      ". mum-.2314 2510\n",
      "\n",
      "\"lalafon: 23 14 25W 10133.48080 ’\n",
      "\n",
      "Bankkmtonummeﬂ 3\n",
      "\n",
      " \n",
      "\n",
      " \n",
      "\n",
      " \n",
      "\n",
      "   \n",
      "\n",
      " \n",
      "\n",
      "Send til: * I _ , > ~\n",
      "I Felgeseddel\n",
      "Jgels 33 Kolonial AS Salgsordra ........... ...: 16038671\n",
      "NIe-ls Jules gate 33  Oppdragsnummer  1066921\n",
      "0257 OSLO  Kundenummar ......... .: 33147\n",
      "Forsandalsesdato . . . . .  24.08.2016\n",
      "Side .......  ....  av 3\n",
      "Rekvisisjon . . . . . . . . \n",
      "Faktureres til: . Dares ref. ............ .. Edip Buga\n",
      "' Vér ref. . . . . . . . . . . ... . . . . .: Per @ivind Giarud\n",
      "Juels 33 Kolonia| As   Bestiller ... ............ ..:\n",
      "Niels Jules gate 33 Transportarnavn . . . . . . . .: Egan bil\n",
      "0257 OSLO Kolli  ............... ..\n",
      "Pall  ................... .. 1.00\n",
      "Display ................ ..\n",
      "HE Varenr EPD Beskrivelse  . 2 , I Enhet Lave” EEL—\n",
      "Batch : 16116214 Date : 08.05.2018 Dpak 2\" 6 532225\n",
      "Sauser D k 1 3\n",
      "6 192097 876110 Mutti pizzasaus 4.1 kg ‘33 * x \n",
      "Batch : P032 Dato : 01 .022010 993“ 1\" 3 632225\n",
      "37 263625 Rana ravioli mlsteinsopp 3 sjampinjong 250 g UtSO'Qt\n",
      "BETALES KONTANTIKORT !!\n",
      "Tekniska data 0m produktane ﬁnnes pa www.0luf.no\n",
      "Mottak: .._____.._._._. “i? Vekt: 293.77\n"
     ]
    }
   ],
   "source": [
    "print final_text[2]"
   ]
  },
  {
   "cell_type": "code",
   "execution_count": null,
   "metadata": {
    "collapsed": true
   },
   "outputs": [],
   "source": []
  }
 ],
 "metadata": {
  "kernelspec": {
   "display_name": "Python 2",
   "language": "python",
   "name": "python2"
  },
  "language_info": {
   "codemirror_mode": {
    "name": "ipython",
    "version": 2
   },
   "file_extension": ".py",
   "mimetype": "text/x-python",
   "name": "python",
   "nbconvert_exporter": "python",
   "pygments_lexer": "ipython2",
   "version": "2.7.12"
  }
 },
 "nbformat": 4,
 "nbformat_minor": 0
}
